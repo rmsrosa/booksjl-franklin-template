{
 "cells": [
  {
   "cell_type": "markdown",
   "metadata": {},
   "source": [
    "# Jupyter notebook"
   ]
  },
  {
   "cell_type": "markdown",
   "metadata": {},
   "source": [
    "This page was generated from a [Jupyter](https://jupyter.org) notebook, automatically converted to markdown with [Literate.jl](https://github.com/fredrikekre/Literate.jl). The conversion happens automatically when the menu is constructed."
   ]
  },
  {
   "cell_type": "markdown",
   "metadata": {},
   "source": [
    "## Julia Dots\n",
    "\n",
    "PNG with path relative to site, i.e. `/assets/images/julia-logo-dots-small.png`, but this only works in the Franklin-rendered site:\n",
    "\n",
    "![Julia dots](/assets/images/julia-logo-dots-small.png)\n"
   ]
  },
  {
   "cell_type": "markdown",
   "metadata": {},
   "source": [
    "\n",
    "## Julia Speeder\n",
    "\n",
    "GIF with path relative to (processed) file but within `_assets/`, i.e. `../../_assets/images/juliaspeeder32x32.gif` and postprocessed accordingly, so it works both in Franklin and in Jupyter, but keep in mind that the notebook is processed by Weave from the directory of the processed file, which is setup to be at the same level of the notebook file to avoid further and special processing:\n",
    "\n",
    "![Julia speeder](../../_assets/images/juliaspeeder32x32.gif)"
   ]
  },
  {
   "cell_type": "markdown",
   "metadata": {},
   "source": [
    "## Math\n",
    "\n",
    "Inline, as in $e^{i\\pi} = -1$, or in a block:\n",
    "$$\n",
    "\\exp(i\\pi) + 1 = 0\n",
    "$$"
   ]
  },
  {
   "cell_type": "markdown",
   "metadata": {},
   "source": [
    "## Code chunks\n",
    "\n",
    "Here is a julia chunk:"
   ]
  },
  {
   "cell_type": "code",
   "execution_count": null,
   "metadata": {},
   "outputs": [],
   "source": [
    "x = 1"
   ]
  },
  {
   "cell_type": "markdown",
   "metadata": {},
   "source": [
    "and another"
   ]
  },
  {
   "cell_type": "code",
   "execution_count": null,
   "metadata": {},
   "outputs": [],
   "source": [
    "println(\"hello world!\")"
   ]
  },
  {
   "cell_type": "markdown",
   "metadata": {},
   "source": [
    "## Load file\n",
    "\n",
    "Keep in mind that Weave renders this from the file dir, which is different from the way Literate handles it (*c.f.* Section [literatejl.jl](/pages/literated/literatejl)):\n"
   ]
  },
  {
   "cell_type": "code",
   "execution_count": null,
   "metadata": {},
   "outputs": [],
   "source": [
    "pwd()"
   ]
  },
  {
   "cell_type": "markdown",
   "metadata": {},
   "source": [
    "\n",
    "With that settled, we can use the proper path:"
   ]
  },
  {
   "cell_type": "code",
   "execution_count": 3,
   "metadata": {},
   "outputs": [
    {
     "data": {
      "text/plain": [
       "\"Wow, this seems like a cool template!\""
      ]
     },
     "metadata": {},
     "output_type": "display_data"
    }
   ],
   "source": [
    "\n",
    "open(\"../../_assets/data/wow.txt\") do io\n",
    "    read(io, String)\n",
    "end"
   ]
  },
  {
   "cell_type": "markdown",
   "metadata": {},
   "source": [
    "## Plot"
   ]
  },
  {
   "cell_type": "code",
   "execution_count": null,
   "metadata": {},
   "outputs": [],
   "source": [
    "using Plots"
   ]
  },
  {
   "cell_type": "code",
   "execution_count": null,
   "metadata": {},
   "outputs": [],
   "source": [
    "x = 0.0:0.01:2π\n",
    "y = sin.(2x) + sin.(5x)\n",
    "plot(x, y, title = \"A nice wave\", titlefont=12, label = false)"
   ]
  }
 ],
 "metadata": {
  "kernelspec": {
   "display_name": "Julia 1.8.0-beta1",
   "language": "julia",
   "name": "julia-1.8"
  },
  "language_info": {
   "file_extension": ".jl",
   "mimetype": "application/julia",
   "name": "julia",
   "version": "1.8.0-beta1"
  },
  "orig_nbformat": 4
 },
 "nbformat": 4,
 "nbformat_minor": 2
}
