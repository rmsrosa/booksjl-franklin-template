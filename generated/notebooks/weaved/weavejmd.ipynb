{
  "cells": [
    {
      "cell_type": "markdown",
      "source": [
        "# Weaved Julia Markdown\n\nThis page was generated from a **julia markdown script**, automatically converted to markdown with [Weave.jl](https://github.com/JunoLab/Weave.jl). The conversion happens when the menu is constructed.\n\n## Julia Dots\n\nPNG with path relative to site, i.e. `/assets/images/julia-logo-dots-small.png`, but this only works in the Franklin-rendered site:\n\n![Julia dots](/assets/images/julia-logo-dots-small.png)\n\n## Julia Speeder\n\nGIF with path relative to file but within `_assets/`, i.e. `../../_assets/images/juliaspeeder32x32.gif`, and postprocessed accordingly, so it works both in Franklin and in Weave:\n\n![Julia speeder](../../_assets/images/juliaspeeder32x32.gif)\n\n## Math\n\nInline, as in $e^{i\\pi} = -1$, or in a block:\n$$\n\\exp(i\\pi) + 1 = 0\n$$\n\n## Code chunks\n\nHere is a julia chunk:"
      ],
      "metadata": {}
    },
    {
      "outputs": [],
      "cell_type": "code",
      "source": [
        "x = 1"
      ],
      "metadata": {},
      "execution_count": null
    },
    {
      "cell_type": "markdown",
      "source": [
        "and another:"
      ],
      "metadata": {}
    },
    {
      "outputs": [],
      "cell_type": "code",
      "source": [
        "println(\"hello world!\")"
      ],
      "metadata": {},
      "execution_count": null
    },
    {
      "cell_type": "markdown",
      "source": [
        "## Load file\n\nKeep in mind that Weave renders this from the directory where the file will be weaved to, which is different from the way Literate handles it (*c.f.* Section [literatejl.jl](/pages/literated/literatejl)):"
      ],
      "metadata": {}
    },
    {
      "outputs": [],
      "cell_type": "code",
      "source": [
        "pwd()"
      ],
      "metadata": {},
      "execution_count": null
    },
    {
      "cell_type": "markdown",
      "source": [
        "With that settled, we can use the proper path:"
      ],
      "metadata": {}
    },
    {
      "outputs": [],
      "cell_type": "code",
      "source": [
        "open(\"../../_assets/data/wow.txt\") do io\n    read(io, String)\nend"
      ],
      "metadata": {},
      "execution_count": null
    },
    {
      "cell_type": "markdown",
      "source": [
        "## Plot"
      ],
      "metadata": {}
    },
    {
      "outputs": [],
      "cell_type": "code",
      "source": [
        "using Plots"
      ],
      "metadata": {},
      "execution_count": null
    },
    {
      "outputs": [],
      "cell_type": "code",
      "source": [
        "x = 0.0:0.01:2π\ny = sin.(2x) + sin.(5x)\nplot(x, y)"
      ],
      "metadata": {},
      "execution_count": null
    }
  ],
  "nbformat_minor": 2,
  "metadata": {
    "language_info": {
      "file_extension": ".jl",
      "mimetype": "application/julia",
      "name": "julia",
      "version": "1.7.2"
    },
    "kernelspec": {
      "name": "julia-1.7",
      "display_name": "Julia 1.7.2",
      "language": "julia"
    }
  },
  "nbformat": 4
}
