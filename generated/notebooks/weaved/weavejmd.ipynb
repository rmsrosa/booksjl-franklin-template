{
  "cells": [
    {
      "cell_type": "markdown",
      "source": [
        "# Weaved Julia Markdown\n\nThis page was generated from a **julia markdown script**, automatically converted to markdown with [Weave.jl](https://github.com/JunoLab/Weave.jl). The conversion happens when the menu is constructed.\n\n## Julia Dots\n\nPNG with path relative to site, i.e. `/assets/images/julia-logo-dots-small.png`:\n\n![Julia dots](/assets/images/julia-logo-dots-small.png)\n\n## Julia Speeder\n\nGIF with path relative to file but within `_assets/`, i.e. `../_assets/images/juliaspeeder32x32.gif`, and postprocessed accordingly, so it works both in Franklin and in Weave:\n\n![Julia speeder](../_assets/images/juliaspeeder32x32.gif)\n\n## Math\n\n$$\n\\exp(i\\pi) + 1 = 0\n$$\n\n## Code chunks\n\nHere is a julia chunk:"
      ],
      "metadata": {}
    },
    {
      "outputs": [],
      "cell_type": "code",
      "source": [
        "x = 1"
      ],
      "metadata": {},
      "execution_count": null
    },
    {
      "cell_type": "markdown",
      "source": [
        "and another:"
      ],
      "metadata": {}
    },
    {
      "outputs": [],
      "cell_type": "code",
      "source": [
        "println(\"hello world!\")"
      ],
      "metadata": {},
      "execution_count": null
    },
    {
      "cell_type": "markdown",
      "source": [
        "## Plot"
      ],
      "metadata": {}
    },
    {
      "outputs": [],
      "cell_type": "code",
      "source": [
        "using Plots"
      ],
      "metadata": {},
      "execution_count": null
    },
    {
      "outputs": [],
      "cell_type": "code",
      "source": [
        "x = 0.0:0.01:2π\ny = sin.(2x) + sin.(5x)\nplot(x, y)"
      ],
      "metadata": {},
      "execution_count": null
    }
  ],
  "nbformat_minor": 2,
  "metadata": {
    "language_info": {
      "file_extension": ".jl",
      "mimetype": "application/julia",
      "name": "julia",
      "version": "1.7.2"
    },
    "kernelspec": {
      "name": "julia-1.7",
      "display_name": "Julia 1.7.2",
      "language": "julia"
    }
  },
  "nbformat": 4
}
