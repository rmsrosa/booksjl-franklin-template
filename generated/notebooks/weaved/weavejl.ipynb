{
  "cells": [
    {
      "cell_type": "markdown",
      "source": [
        "# Weaved Julia Script"
      ],
      "metadata": {}
    },
    {
      "cell_type": "markdown",
      "source": [
        "This page was generated from a **julia script**, automatically converted to markdown with [Weave.jl](https://github.com/JunoLab/Weave.jl). The conversion happens automatically when the menu is constructed."
      ],
      "metadata": {}
    },
    {
      "cell_type": "markdown",
      "source": [
        "## Julia Logo"
      ],
      "metadata": {}
    },
    {
      "cell_type": "markdown",
      "source": [
        "![Julia dots](/assets/images/julia-logo-dots-small.png)"
      ],
      "metadata": {}
    },
    {
      "cell_type": "markdown",
      "source": [
        "## Math"
      ],
      "metadata": {}
    },
    {
      "cell_type": "markdown",
      "source": [
        "$$\n\\exp(i\\pi) + 1 = 0\n$$"
      ],
      "metadata": {}
    },
    {
      "cell_type": "markdown",
      "source": [
        "## Code chunks"
      ],
      "metadata": {}
    },
    {
      "cell_type": "markdown",
      "source": [
        "Here is a julia chunk:"
      ],
      "metadata": {}
    },
    {
      "outputs": [],
      "cell_type": "code",
      "source": [
        "x = 1"
      ],
      "metadata": {},
      "execution_count": null
    },
    {
      "cell_type": "markdown",
      "source": [
        "and another:"
      ],
      "metadata": {}
    },
    {
      "outputs": [],
      "cell_type": "code",
      "source": [
        "println(\"hello world!\")"
      ],
      "metadata": {},
      "execution_count": null
    },
    {
      "cell_type": "markdown",
      "source": [
        "## Plot"
      ],
      "metadata": {}
    },
    {
      "outputs": [],
      "cell_type": "code",
      "source": [
        "using Plots\n\nx = 0.0:0.01:2π\ny = sin.(2x) + sin.(5x)\n\nplot(x, y)"
      ],
      "metadata": {},
      "execution_count": null
    }
  ],
  "nbformat_minor": 2,
  "metadata": {
    "language_info": {
      "file_extension": ".jl",
      "mimetype": "application/julia",
      "name": "julia",
      "version": "1.7.2"
    },
    "kernelspec": {
      "name": "julia-1.7",
      "display_name": "Julia 1.7.2",
      "language": "julia"
    }
  },
  "nbformat": 4
}
