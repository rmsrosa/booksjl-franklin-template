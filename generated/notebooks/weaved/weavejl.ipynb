{
  "cells": [
    {
      "cell_type": "markdown",
      "source": [
        "# Weaved Julia Script"
      ],
      "metadata": {}
    },
    {
      "cell_type": "markdown",
      "source": [
        "This page was generated from a **julia script**, automatically converted to markdown with [Weave.jl](https://github.com/JunoLab/Weave.jl). The conversion happens automatically when the menu is constructed."
      ],
      "metadata": {}
    },
    {
      "cell_type": "markdown",
      "source": [
        "## Julia Dots"
      ],
      "metadata": {}
    },
    {
      "cell_type": "markdown",
      "source": [
        "PNG with path relative to site, i.e. `/assets/images/julia-logo-dots-small.png`, but this only works in the Franklin-rendered site:"
      ],
      "metadata": {}
    },
    {
      "cell_type": "markdown",
      "source": [
        "![Julia dots](/assets/images/julia-logo-dots-small.png)"
      ],
      "metadata": {}
    },
    {
      "cell_type": "markdown",
      "source": [
        "## Julia Speeder"
      ],
      "metadata": {}
    },
    {
      "cell_type": "markdown",
      "source": [
        "GIF with path relative to file but within `_assets/`, i.e. `../../_assets/images/juliaspeeder32x32.gif`, and postprocessed accordingly, so it works both in Franklin and in Weave:"
      ],
      "metadata": {}
    },
    {
      "cell_type": "markdown",
      "source": [
        "![Julia speeder](../../_assets/images/juliaspeeder32x32.gif)"
      ],
      "metadata": {}
    },
    {
      "cell_type": "markdown",
      "source": [
        "## Math"
      ],
      "metadata": {}
    },
    {
      "cell_type": "markdown",
      "source": [
        "Inline, as in $e^{i\\pi} = -1$, or in a block:\n$$\n\\exp(i\\pi) + 1 = 0\n$$"
      ],
      "metadata": {}
    },
    {
      "cell_type": "markdown",
      "source": [
        "## Code chunks"
      ],
      "metadata": {}
    },
    {
      "cell_type": "markdown",
      "source": [
        "Here is a julia chunk:"
      ],
      "metadata": {}
    },
    {
      "outputs": [],
      "cell_type": "code",
      "source": [
        "x = 1"
      ],
      "metadata": {},
      "execution_count": null
    },
    {
      "cell_type": "markdown",
      "source": [
        "and another:"
      ],
      "metadata": {}
    },
    {
      "outputs": [],
      "cell_type": "code",
      "source": [
        "println(\"hello world!\")"
      ],
      "metadata": {},
      "execution_count": null
    },
    {
      "cell_type": "markdown",
      "source": [
        "## Load file"
      ],
      "metadata": {}
    },
    {
      "outputs": [],
      "cell_type": "code",
      "source": [
        "# Keep in mind that Weave renders this from the file dir, which is different from the way Literate handles it:\n\npwd()\n\n# With that settled, we can use the proper path:\n\nopen(\"../../_assets/data/wow.txt\") do io\n    read(io, String)\nend"
      ],
      "metadata": {},
      "execution_count": null
    },
    {
      "cell_type": "markdown",
      "source": [
        "## Plot"
      ],
      "metadata": {}
    },
    {
      "outputs": [],
      "cell_type": "code",
      "source": [
        "using Plots\n\nx = 0.0:0.01:2π\ny = sin.(2x) + sin.(5x)\n\nplot(x, y)"
      ],
      "metadata": {},
      "execution_count": null
    }
  ],
  "nbformat_minor": 2,
  "metadata": {
    "language_info": {
      "file_extension": ".jl",
      "mimetype": "application/julia",
      "name": "julia",
      "version": "1.7.2"
    },
    "kernelspec": {
      "name": "julia-1.7",
      "display_name": "Julia 1.7.2",
      "language": "julia"
    }
  },
  "nbformat": 4
}
