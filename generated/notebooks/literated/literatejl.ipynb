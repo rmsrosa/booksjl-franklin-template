{
 "cells": [
  {
   "cell_type": "markdown",
   "source": [
    "# Literated Julia Script"
   ],
   "metadata": {}
  },
  {
   "cell_type": "markdown",
   "source": [
    "This page was generated from a **julia script**, automatically converted to markdown with [Literate.jl](https://github.com/fredrikekre/Literate.jl). The conversion happens automatically when the menu is constructed."
   ],
   "metadata": {}
  },
  {
   "cell_type": "markdown",
   "source": [
    "## Julia Dots"
   ],
   "metadata": {}
  },
  {
   "cell_type": "markdown",
   "source": [
    "PNG with path relative to site, i.e. `/assets/images/julia-logo-dots-small.png`, but this only works in the Franklin-rendered site:"
   ],
   "metadata": {}
  },
  {
   "cell_type": "markdown",
   "source": [
    "![Julia dots](/assets/images/julia-logo-dots-small.png)"
   ],
   "metadata": {}
  },
  {
   "cell_type": "markdown",
   "source": [
    "## Julia Speeder"
   ],
   "metadata": {}
  },
  {
   "cell_type": "markdown",
   "source": [
    "GIF with path relative to file and within `_assets/`, i.e. `../../_assets/images/juliaspeeder32x32.gif`, and postprocessed accordingly, so it works both in Franklin and in Literate:"
   ],
   "metadata": {}
  },
  {
   "cell_type": "markdown",
   "source": [
    "![Julia speeder](../../_assets/images/juliaspeeder32x32.gif)"
   ],
   "metadata": {}
  },
  {
   "cell_type": "markdown",
   "source": [
    "## Math"
   ],
   "metadata": {}
  },
  {
   "cell_type": "markdown",
   "source": [
    "Inline, as in $e^{i\\pi} = -1$, or in a block:\n",
    "$$\n",
    "\\exp(i\\pi) + 1 = 0\n",
    "$$"
   ],
   "metadata": {}
  },
  {
   "cell_type": "markdown",
   "source": [
    "## Code chunks"
   ],
   "metadata": {}
  },
  {
   "cell_type": "markdown",
   "source": [
    "Here is a julia chunk:"
   ],
   "metadata": {}
  },
  {
   "outputs": [
    {
     "output_type": "execute_result",
     "data": {
      "text/plain": "1"
     },
     "metadata": {},
     "execution_count": 1
    }
   ],
   "cell_type": "code",
   "source": [
    "x = 1"
   ],
   "metadata": {},
   "execution_count": 1
  },
  {
   "cell_type": "markdown",
   "source": [
    "and another:"
   ],
   "metadata": {}
  },
  {
   "outputs": [
    {
     "name": "stdout",
     "output_type": "stream",
     "text": [
      "hello world!\n"
     ]
    }
   ],
   "cell_type": "code",
   "source": [
    "println(\"hello world!\")"
   ],
   "metadata": {},
   "execution_count": 2
  },
  {
   "cell_type": "markdown",
   "source": [
    "## Load file"
   ],
   "metadata": {}
  },
  {
   "cell_type": "markdown",
   "source": [
    "Keep in mind that Literate renders this from the root dir, which is different from the way Weave handles it (*c.f.* Section [weavejl.jl](/pages/weaved/weavejl)):"
   ],
   "metadata": {}
  },
  {
   "outputs": [
    {
     "output_type": "execute_result",
     "data": {
      "text/plain": "\"/home/runner/work/booksjl-franklin-template/booksjl-franklin-template/__site/generated/notebooks/literated\""
     },
     "metadata": {},
     "execution_count": 3
    }
   ],
   "cell_type": "code",
   "source": [
    "pwd()"
   ],
   "metadata": {},
   "execution_count": 3
  },
  {
   "cell_type": "markdown",
   "source": [
    "With that settled, we can use the proper path (but for some weird reason, I first need to check whether the file exists before attempting to open it, otherwise Literate complains the file does not exist &#129335;):"
   ],
   "metadata": {}
  },
  {
   "outputs": [],
   "cell_type": "code",
   "source": [
    "filename = \"_assets/data/wow.txt\"\n",
    "\n",
    "if isfile(filename)\n",
    "    open(filename) do io\n",
    "        read(io, String)\n",
    "    end\n",
    "end"
   ],
   "metadata": {},
   "execution_count": 4
  },
  {
   "cell_type": "markdown",
   "source": [
    "## Plot"
   ],
   "metadata": {}
  },
  {
   "outputs": [
    {
     "output_type": "execute_result",
     "data": {
      "text/plain": "Plot{Plots.GRBackend() n=1}",
      "image/png": "[encoded data removed]",
      "text/html": [
       "<?xml version=\"1.0\" encoding=\"utf-8\"?>\n",
       "<svg xmlns=\"http://www.w3.org/2000/svg\" xmlns:xlink=\"http://www.w3.org/1999/xlink\" width=\"600\" height=\"400\" viewBox=\"0 0 2400 1600\">\n",
       "<defs>\n",
       "  <clipPath id=\"clip430\">\n",
       "    <rect x=\"0\" y=\"0\" width=\"2400\" height=\"1600\"/>\n",
       "  </clipPath>\n",
       "</defs>\n",
       "<path clip-path=\"url(#clip430)\" d=\"\n",
       "M0 1600 L2400 1600 L2400 0 L0 0  Z\n",
       "  \" fill=\"#ffffff\" fill-rule=\"evenodd\" fill-opacity=\"1\"/>\n",
       "<defs>\n",
       "  <clipPath id=\"clip431\">\n",
       "    <rect x=\"480\" y=\"0\" width=\"1681\" height=\"1600\"/>\n",
       "  </clipPath>\n",
       "</defs>\n",
       "<path clip-path=\"url(#clip430)\" d=\"\n",
       "M147.478 1486.45 L2352.76 1486.45 L2352.76 47.2441 L147.478 47.2441  Z\n",
       "  \" fill=\"#ffffff\" fill-rule=\"evenodd\" fill-opacity=\"1\"/>\n",
       "<defs>\n",
       "  <clipPath id=\"clip432\">\n",
       "    <rect x=\"147\" y=\"47\" width=\"2206\" height=\"1440\"/>\n",
       "  </clipPath>\n",
       "</defs>\n",
       "<polyline clip-path=\"url(#clip432)\" style=\"stroke:#000000; stroke-linecap:butt; stroke-linejoin:round; stroke-width:2; stroke-opacity:0.1; fill:none\" points=\"\n",
       "  209.891,1486.45 209.891,47.2441 \n",
       "  \"/>\n",
       "<polyline clip-path=\"url(#clip432)\" style=\"stroke:#000000; stroke-linecap:butt; stroke-linejoin:round; stroke-width:2; stroke-opacity:0.1; fill:none\" points=\"\n",
       "  541.173,1486.45 541.173,47.2441 \n",
       "  \"/>\n",
       "<polyline clip-path=\"url(#clip432)\" style=\"stroke:#000000; stroke-linecap:butt; stroke-linejoin:round; stroke-width:2; stroke-opacity:0.1; fill:none\" points=\"\n",
       "  872.455,1486.45 872.455,47.2441 \n",
       "  \"/>\n",
       "<polyline clip-path=\"url(#clip432)\" style=\"stroke:#000000; stroke-linecap:butt; stroke-linejoin:round; stroke-width:2; stroke-opacity:0.1; fill:none\" points=\"\n",
       "  1203.74,1486.45 1203.74,47.2441 \n",
       "  \"/>\n",
       "<polyline clip-path=\"url(#clip432)\" style=\"stroke:#000000; stroke-linecap:butt; stroke-linejoin:round; stroke-width:2; stroke-opacity:0.1; fill:none\" points=\"\n",
       "  1535.02,1486.45 1535.02,47.2441 \n",
       "  \"/>\n",
       "<polyline clip-path=\"url(#clip432)\" style=\"stroke:#000000; stroke-linecap:butt; stroke-linejoin:round; stroke-width:2; stroke-opacity:0.1; fill:none\" points=\"\n",
       "  1866.3,1486.45 1866.3,47.2441 \n",
       "  \"/>\n",
       "<polyline clip-path=\"url(#clip432)\" style=\"stroke:#000000; stroke-linecap:butt; stroke-linejoin:round; stroke-width:2; stroke-opacity:0.1; fill:none\" points=\"\n",
       "  2197.58,1486.45 2197.58,47.2441 \n",
       "  \"/>\n",
       "<polyline clip-path=\"url(#clip430)\" style=\"stroke:#000000; stroke-linecap:butt; stroke-linejoin:round; stroke-width:4; stroke-opacity:1; fill:none\" points=\"\n",
       "  147.478,1486.45 2352.76,1486.45 \n",
       "  \"/>\n",
       "<polyline clip-path=\"url(#clip430)\" style=\"stroke:#000000; stroke-linecap:butt; stroke-linejoin:round; stroke-width:4; stroke-opacity:1; fill:none\" points=\"\n",
       "  209.891,1486.45 209.891,1467.55 \n",
       "  \"/>\n",
       "<polyline clip-path=\"url(#clip430)\" style=\"stroke:#000000; stroke-linecap:butt; stroke-linejoin:round; stroke-width:4; stroke-opacity:1; fill:none\" points=\"\n",
       "  541.173,1486.45 541.173,1467.55 \n",
       "  \"/>\n",
       "<polyline clip-path=\"url(#clip430)\" style=\"stroke:#000000; stroke-linecap:butt; stroke-linejoin:round; stroke-width:4; stroke-opacity:1; fill:none\" points=\"\n",
       "  872.455,1486.45 872.455,1467.55 \n",
       "  \"/>\n",
       "<polyline clip-path=\"url(#clip430)\" style=\"stroke:#000000; stroke-linecap:butt; stroke-linejoin:round; stroke-width:4; stroke-opacity:1; fill:none\" points=\"\n",
       "  1203.74,1486.45 1203.74,1467.55 \n",
       "  \"/>\n",
       "<polyline clip-path=\"url(#clip430)\" style=\"stroke:#000000; stroke-linecap:butt; stroke-linejoin:round; stroke-width:4; stroke-opacity:1; fill:none\" points=\"\n",
       "  1535.02,1486.45 1535.02,1467.55 \n",
       "  \"/>\n",
       "<polyline clip-path=\"url(#clip430)\" style=\"stroke:#000000; stroke-linecap:butt; stroke-linejoin:round; stroke-width:4; stroke-opacity:1; fill:none\" points=\"\n",
       "  1866.3,1486.45 1866.3,1467.55 \n",
       "  \"/>\n",
       "<polyline clip-path=\"url(#clip430)\" style=\"stroke:#000000; stroke-linecap:butt; stroke-linejoin:round; stroke-width:4; stroke-opacity:1; fill:none\" points=\"\n",
       "  2197.58,1486.45 2197.58,1467.55 \n",
       "  \"/>\n",
       "<path clip-path=\"url(#clip430)\" d=\"M209.891 1517.37 Q206.28 1517.37 204.452 1520.93 Q202.646 1524.47 202.646 1531.6 Q202.646 1538.71 204.452 1542.27 Q206.28 1545.82 209.891 1545.82 Q213.526 1545.82 215.331 1542.27 Q217.16 1538.71 217.16 1531.6 Q217.16 1524.47 215.331 1520.93 Q213.526 1517.37 209.891 1517.37 M209.891 1513.66 Q215.702 1513.66 218.757 1518.27 Q221.836 1522.85 221.836 1531.6 Q221.836 1540.33 218.757 1544.94 Q215.702 1549.52 209.891 1549.52 Q204.081 1549.52 201.003 1544.94 Q197.947 1540.33 197.947 1531.6 Q197.947 1522.85 201.003 1518.27 Q204.081 1513.66 209.891 1513.66 Z\" fill=\"#000000\" fill-rule=\"evenodd\" fill-opacity=\"1\" /><path clip-path=\"url(#clip430)\" d=\"M531.555 1544.91 L539.194 1544.91 L539.194 1518.55 L530.884 1520.21 L530.884 1515.95 L539.148 1514.29 L543.824 1514.29 L543.824 1544.91 L551.463 1544.91 L551.463 1548.85 L531.555 1548.85 L531.555 1544.91 Z\" fill=\"#000000\" fill-rule=\"evenodd\" fill-opacity=\"1\" /><path clip-path=\"url(#clip430)\" d=\"M867.108 1544.91 L883.428 1544.91 L883.428 1548.85 L861.483 1548.85 L861.483 1544.91 Q864.145 1542.16 868.729 1537.53 Q873.335 1532.88 874.516 1531.53 Q876.761 1529.01 877.641 1527.27 Q878.543 1525.51 878.543 1523.82 Q878.543 1521.07 876.599 1519.33 Q874.678 1517.6 871.576 1517.6 Q869.377 1517.6 866.923 1518.36 Q864.493 1519.13 861.715 1520.68 L861.715 1515.95 Q864.539 1514.82 866.992 1514.24 Q869.446 1513.66 871.483 1513.66 Q876.854 1513.66 880.048 1516.35 Q883.242 1519.03 883.242 1523.52 Q883.242 1525.65 882.432 1527.57 Q881.645 1529.47 879.539 1532.07 Q878.96 1532.74 875.858 1535.95 Q872.756 1539.15 867.108 1544.91 Z\" fill=\"#000000\" fill-rule=\"evenodd\" fill-opacity=\"1\" /><path clip-path=\"url(#clip430)\" d=\"M1207.99 1530.21 Q1211.34 1530.93 1213.22 1533.2 Q1215.11 1535.47 1215.11 1538.8 Q1215.11 1543.92 1211.6 1546.72 Q1208.08 1549.52 1201.6 1549.52 Q1199.42 1549.52 1197.11 1549.08 Q1194.81 1548.66 1192.36 1547.81 L1192.36 1543.29 Q1194.3 1544.43 1196.62 1545.01 Q1198.93 1545.58 1201.46 1545.58 Q1205.86 1545.58 1208.15 1543.85 Q1210.46 1542.11 1210.46 1538.8 Q1210.46 1535.75 1208.31 1534.03 Q1206.18 1532.3 1202.36 1532.3 L1198.33 1532.3 L1198.33 1528.45 L1202.55 1528.45 Q1205.99 1528.45 1207.82 1527.09 Q1209.65 1525.7 1209.65 1523.11 Q1209.65 1520.45 1207.75 1519.03 Q1205.88 1517.6 1202.36 1517.6 Q1200.44 1517.6 1198.24 1518.01 Q1196.04 1518.43 1193.4 1519.31 L1193.4 1515.14 Q1196.06 1514.4 1198.38 1514.03 Q1200.72 1513.66 1202.78 1513.66 Q1208.1 1513.66 1211.2 1516.09 Q1214.3 1518.5 1214.3 1522.62 Q1214.3 1525.49 1212.66 1527.48 Q1211.02 1529.45 1207.99 1530.21 Z\" fill=\"#000000\" fill-rule=\"evenodd\" fill-opacity=\"1\" /><path clip-path=\"url(#clip430)\" d=\"M1538.03 1518.36 L1526.22 1536.81 L1538.03 1536.81 L1538.03 1518.36 M1536.8 1514.29 L1542.68 1514.29 L1542.68 1536.81 L1547.61 1536.81 L1547.61 1540.7 L1542.68 1540.7 L1542.68 1548.85 L1538.03 1548.85 L1538.03 1540.7 L1522.43 1540.7 L1522.43 1536.19 L1536.8 1514.29 Z\" fill=\"#000000\" fill-rule=\"evenodd\" fill-opacity=\"1\" /><path clip-path=\"url(#clip430)\" d=\"M1856.58 1514.29 L1874.94 1514.29 L1874.94 1518.22 L1860.86 1518.22 L1860.86 1526.7 Q1861.88 1526.35 1862.9 1526.19 Q1863.92 1526 1864.94 1526 Q1870.72 1526 1874.1 1529.17 Q1877.48 1532.34 1877.48 1537.76 Q1877.48 1543.34 1874.01 1546.44 Q1870.54 1549.52 1864.22 1549.52 Q1862.04 1549.52 1859.77 1549.15 Q1857.53 1548.78 1855.12 1548.04 L1855.12 1543.34 Q1857.2 1544.47 1859.43 1545.03 Q1861.65 1545.58 1864.13 1545.58 Q1868.13 1545.58 1870.47 1543.48 Q1872.81 1541.37 1872.81 1537.76 Q1872.81 1534.15 1870.47 1532.04 Q1868.13 1529.94 1864.13 1529.94 Q1862.25 1529.94 1860.38 1530.35 Q1858.52 1530.77 1856.58 1531.65 L1856.58 1514.29 Z\" fill=\"#000000\" fill-rule=\"evenodd\" fill-opacity=\"1\" /><path clip-path=\"url(#clip430)\" d=\"M2197.99 1529.7 Q2194.84 1529.7 2192.99 1531.86 Q2191.16 1534.01 2191.16 1537.76 Q2191.16 1541.49 2192.99 1543.66 Q2194.84 1545.82 2197.99 1545.82 Q2201.14 1545.82 2202.97 1543.66 Q2204.82 1541.49 2204.82 1537.76 Q2204.82 1534.01 2202.97 1531.86 Q2201.14 1529.7 2197.99 1529.7 M2207.27 1515.05 L2207.27 1519.31 Q2205.51 1518.48 2203.71 1518.04 Q2201.92 1517.6 2200.16 1517.6 Q2195.53 1517.6 2193.08 1520.72 Q2190.65 1523.85 2190.3 1530.17 Q2191.67 1528.15 2193.73 1527.09 Q2195.79 1526 2198.27 1526 Q2203.47 1526 2206.48 1529.17 Q2209.52 1532.32 2209.52 1537.76 Q2209.52 1543.08 2206.37 1546.3 Q2203.22 1549.52 2197.99 1549.52 Q2191.99 1549.52 2188.82 1544.94 Q2185.65 1540.33 2185.65 1531.6 Q2185.65 1523.41 2189.54 1518.55 Q2193.43 1513.66 2199.98 1513.66 Q2201.74 1513.66 2203.52 1514.01 Q2205.33 1514.36 2207.27 1515.05 Z\" fill=\"#000000\" fill-rule=\"evenodd\" fill-opacity=\"1\" /><polyline clip-path=\"url(#clip432)\" style=\"stroke:#000000; stroke-linecap:butt; stroke-linejoin:round; stroke-width:2; stroke-opacity:0.1; fill:none\" points=\"\n",
       "  147.478,1460.39 2352.76,1460.39 \n",
       "  \"/>\n",
       "<polyline clip-path=\"url(#clip432)\" style=\"stroke:#000000; stroke-linecap:butt; stroke-linejoin:round; stroke-width:2; stroke-opacity:0.1; fill:none\" points=\"\n",
       "  147.478,1113.61 2352.76,1113.61 \n",
       "  \"/>\n",
       "<polyline clip-path=\"url(#clip432)\" style=\"stroke:#000000; stroke-linecap:butt; stroke-linejoin:round; stroke-width:2; stroke-opacity:0.1; fill:none\" points=\"\n",
       "  147.478,766.83 2352.76,766.83 \n",
       "  \"/>\n",
       "<polyline clip-path=\"url(#clip432)\" style=\"stroke:#000000; stroke-linecap:butt; stroke-linejoin:round; stroke-width:2; stroke-opacity:0.1; fill:none\" points=\"\n",
       "  147.478,420.05 2352.76,420.05 \n",
       "  \"/>\n",
       "<polyline clip-path=\"url(#clip432)\" style=\"stroke:#000000; stroke-linecap:butt; stroke-linejoin:round; stroke-width:2; stroke-opacity:0.1; fill:none\" points=\"\n",
       "  147.478,73.2699 2352.76,73.2699 \n",
       "  \"/>\n",
       "<polyline clip-path=\"url(#clip430)\" style=\"stroke:#000000; stroke-linecap:butt; stroke-linejoin:round; stroke-width:4; stroke-opacity:1; fill:none\" points=\"\n",
       "  147.478,1486.45 147.478,47.2441 \n",
       "  \"/>\n",
       "<polyline clip-path=\"url(#clip430)\" style=\"stroke:#000000; stroke-linecap:butt; stroke-linejoin:round; stroke-width:4; stroke-opacity:1; fill:none\" points=\"\n",
       "  147.478,1460.39 166.376,1460.39 \n",
       "  \"/>\n",
       "<polyline clip-path=\"url(#clip430)\" style=\"stroke:#000000; stroke-linecap:butt; stroke-linejoin:round; stroke-width:4; stroke-opacity:1; fill:none\" points=\"\n",
       "  147.478,1113.61 166.376,1113.61 \n",
       "  \"/>\n",
       "<polyline clip-path=\"url(#clip430)\" style=\"stroke:#000000; stroke-linecap:butt; stroke-linejoin:round; stroke-width:4; stroke-opacity:1; fill:none\" points=\"\n",
       "  147.478,766.83 166.376,766.83 \n",
       "  \"/>\n",
       "<polyline clip-path=\"url(#clip430)\" style=\"stroke:#000000; stroke-linecap:butt; stroke-linejoin:round; stroke-width:4; stroke-opacity:1; fill:none\" points=\"\n",
       "  147.478,420.05 166.376,420.05 \n",
       "  \"/>\n",
       "<polyline clip-path=\"url(#clip430)\" style=\"stroke:#000000; stroke-linecap:butt; stroke-linejoin:round; stroke-width:4; stroke-opacity:1; fill:none\" points=\"\n",
       "  147.478,73.2699 166.376,73.2699 \n",
       "  \"/>\n",
       "<path clip-path=\"url(#clip430)\" d=\"M51.3625 1460.84 L81.0383 1460.84 L81.0383 1464.78 L51.3625 1464.78 L51.3625 1460.84 Z\" fill=\"#000000\" fill-rule=\"evenodd\" fill-opacity=\"1\" /><path clip-path=\"url(#clip430)\" d=\"M95.1586 1473.74 L111.478 1473.74 L111.478 1477.67 L89.5336 1477.67 L89.5336 1473.74 Q92.1956 1470.98 96.7789 1466.35 Q101.385 1461.7 102.566 1460.36 Q104.811 1457.83 105.691 1456.1 Q106.594 1454.34 106.594 1452.65 Q106.594 1449.89 104.649 1448.16 Q102.728 1446.42 99.6261 1446.42 Q97.4271 1446.42 94.9734 1447.18 Q92.5428 1447.95 89.7651 1449.5 L89.7651 1444.78 Q92.5891 1443.64 95.0428 1443.06 Q97.4965 1442.49 99.5335 1442.49 Q104.904 1442.49 108.098 1445.17 Q111.293 1447.86 111.293 1452.35 Q111.293 1454.48 110.483 1456.4 Q109.696 1458.3 107.589 1460.89 Q107.01 1461.56 103.909 1464.78 Q100.807 1467.97 95.1586 1473.74 Z\" fill=\"#000000\" fill-rule=\"evenodd\" fill-opacity=\"1\" /><path clip-path=\"url(#clip430)\" d=\"M50.9921 1114.06 L80.6679 1114.06 L80.6679 1118 L50.9921 1118 L50.9921 1114.06 Z\" fill=\"#000000\" fill-rule=\"evenodd\" fill-opacity=\"1\" /><path clip-path=\"url(#clip430)\" d=\"M91.5706 1126.95 L99.2095 1126.95 L99.2095 1100.59 L90.8993 1102.26 L90.8993 1098 L99.1632 1096.33 L103.839 1096.33 L103.839 1126.95 L111.478 1126.95 L111.478 1130.89 L91.5706 1130.89 L91.5706 1126.95 Z\" fill=\"#000000\" fill-rule=\"evenodd\" fill-opacity=\"1\" /><path clip-path=\"url(#clip430)\" d=\"M99.5335 752.629 Q95.9224 752.629 94.0937 756.194 Q92.2882 759.735 92.2882 766.865 Q92.2882 773.971 94.0937 777.536 Q95.9224 781.078 99.5335 781.078 Q103.168 781.078 104.973 777.536 Q106.802 773.971 106.802 766.865 Q106.802 759.735 104.973 756.194 Q103.168 752.629 99.5335 752.629 M99.5335 748.925 Q105.344 748.925 108.399 753.532 Q111.478 758.115 111.478 766.865 Q111.478 775.592 108.399 780.198 Q105.344 784.781 99.5335 784.781 Q93.7234 784.781 90.6447 780.198 Q87.5892 775.592 87.5892 766.865 Q87.5892 758.115 90.6447 753.532 Q93.7234 748.925 99.5335 748.925 Z\" fill=\"#000000\" fill-rule=\"evenodd\" fill-opacity=\"1\" /><path clip-path=\"url(#clip430)\" d=\"M91.5706 433.395 L99.2095 433.395 L99.2095 407.029 L90.8993 408.696 L90.8993 404.437 L99.1632 402.77 L103.839 402.77 L103.839 433.395 L111.478 433.395 L111.478 437.33 L91.5706 437.33 L91.5706 433.395 Z\" fill=\"#000000\" fill-rule=\"evenodd\" fill-opacity=\"1\" /><path clip-path=\"url(#clip430)\" d=\"M95.1586 86.6148 L111.478 86.6148 L111.478 90.5499 L89.5336 90.5499 L89.5336 86.6148 Q92.1956 83.8601 96.7789 79.2305 Q101.385 74.5778 102.566 73.2352 Q104.811 70.7121 105.691 68.976 Q106.594 67.2167 106.594 65.5269 Q106.594 62.7723 104.649 61.0362 Q102.728 59.3001 99.6261 59.3001 Q97.4271 59.3001 94.9734 60.064 Q92.5428 60.8279 89.7651 62.3788 L89.7651 57.6566 Q92.5891 56.5223 95.0428 55.9436 Q97.4965 55.3649 99.5335 55.3649 Q104.904 55.3649 108.098 58.0501 Q111.293 60.7353 111.293 65.226 Q111.293 67.3556 110.483 69.2769 Q109.696 71.175 107.589 73.7676 Q107.01 74.4389 103.909 77.6565 Q100.807 80.8509 95.1586 86.6148 Z\" fill=\"#000000\" fill-rule=\"evenodd\" fill-opacity=\"1\" /><polyline clip-path=\"url(#clip432)\" style=\"stroke:#009af9; stroke-linecap:butt; stroke-linejoin:round; stroke-width:4; stroke-opacity:1; fill:none\" points=\"\n",
       "  209.891,766.83 213.204,742.563 216.517,718.342 219.83,694.214 223.143,670.223 226.456,646.415 229.768,622.836 233.081,599.529 236.394,576.539 239.707,553.909 \n",
       "  243.02,531.68 246.332,509.895 249.645,488.593 252.958,467.813 256.271,447.594 259.584,427.971 262.897,408.98 266.209,390.654 269.522,373.026 272.835,356.126 \n",
       "  276.148,339.982 279.461,324.622 282.773,310.07 286.086,296.349 289.399,283.482 292.712,271.486 296.025,260.379 299.338,250.177 302.65,240.891 305.963,232.533 \n",
       "  309.276,225.112 312.589,218.634 315.902,213.102 319.214,208.52 322.527,204.888 325.84,202.201 329.153,200.458 332.466,199.649 335.779,199.768 339.091,200.802 \n",
       "  342.404,202.739 345.717,205.564 349.03,209.259 352.343,213.806 355.656,219.183 358.968,225.368 362.281,232.336 365.594,240.06 368.907,248.514 372.22,257.666 \n",
       "  375.532,267.486 378.845,277.942 382.158,289 385.471,300.624 388.784,312.778 392.097,325.425 395.409,338.526 398.722,352.042 402.035,365.934 405.348,380.16 \n",
       "  408.661,394.68 411.973,409.451 415.286,424.432 418.599,439.58 421.912,454.852 425.225,470.207 428.538,485.602 431.85,500.995 435.163,516.343 438.476,531.605 \n",
       "  441.789,546.74 445.102,561.708 448.414,576.469 451.727,590.984 455.04,605.215 458.353,619.125 461.666,632.677 464.979,645.838 468.291,658.574 471.604,670.852 \n",
       "  474.917,682.642 478.23,693.915 481.543,704.642 484.855,714.799 488.168,724.361 491.481,733.305 494.794,741.611 498.107,749.26 501.42,756.235 504.732,762.522 \n",
       "  508.045,768.107 511.358,772.98 514.671,777.132 517.984,780.557 521.297,783.249 524.609,785.207 527.922,786.43 531.235,786.92 534.548,786.68 537.861,785.717 \n",
       "  541.173,784.04 544.486,781.657 547.799,778.581 551.112,774.827 554.425,770.409 557.738,765.348 561.05,759.661 564.363,753.371 567.676,746.502 570.989,739.078 \n",
       "  574.302,731.127 577.614,722.676 580.927,713.756 584.24,704.397 587.553,694.632 590.866,684.495 594.179,674.022 597.491,663.247 600.804,652.207 604.117,640.942 \n",
       "  607.43,629.489 610.743,617.887 614.055,606.176 617.368,594.398 620.681,582.591 623.994,570.798 627.307,559.059 630.62,547.415 633.932,535.908 637.245,524.577 \n",
       "  640.558,513.465 643.871,502.611 647.184,492.054 650.496,481.834 653.809,471.989 657.122,462.557 660.435,453.574 663.748,445.076 667.061,437.098 670.373,429.673 \n",
       "  673.686,422.833 676.999,416.609 680.312,411.03 683.625,406.124 686.938,401.918 690.25,398.435 693.563,395.699 696.876,393.731 700.189,392.549 703.502,392.171 \n",
       "  706.814,392.613 710.127,393.887 713.44,396.005 716.753,398.976 720.066,402.807 723.379,407.504 726.691,413.068 730.004,419.5 733.317,426.8 736.63,434.963 \n",
       "  739.943,443.983 743.255,453.853 746.568,464.562 749.881,476.098 753.194,488.447 756.507,501.592 759.82,515.515 763.132,530.196 766.445,545.611 769.758,561.737 \n",
       "  773.071,578.547 776.384,596.014 779.696,614.109 783.009,632.798 786.322,652.051 789.635,671.833 792.948,692.107 796.261,712.837 799.573,733.985 802.886,755.51 \n",
       "  806.199,777.373 809.512,799.531 812.825,821.943 816.137,844.566 819.45,867.354 822.763,890.265 826.076,913.253 829.389,936.273 832.702,959.28 836.014,982.228 \n",
       "  839.327,1005.07 842.64,1027.76 845.953,1050.26 849.266,1072.52 852.579,1094.49 855.891,1116.14 859.204,1137.41 862.517,1158.26 865.83,1178.66 869.143,1198.57 \n",
       "  872.455,1217.93 875.768,1236.72 879.081,1254.89 882.394,1272.41 885.707,1289.25 889.02,1305.37 892.332,1320.74 895.645,1335.33 898.958,1349.11 902.271,1362.05 \n",
       "  905.584,1374.14 908.896,1385.34 912.209,1395.63 915.522,1405 918.835,1413.44 922.148,1420.91 925.461,1427.42 928.773,1432.95 932.086,1437.5 935.399,1441.05 \n",
       "  938.712,1443.6 942.025,1445.16 945.337,1445.72 948.65,1445.28 951.963,1443.85 955.276,1441.43 958.589,1438.05 961.902,1433.7 965.214,1428.4 968.527,1422.16 \n",
       "  971.84,1415.01 975.153,1406.96 978.466,1398.04 981.778,1388.27 985.091,1377.67 988.404,1366.27 991.717,1354.1 995.03,1341.19 998.343,1327.57 1001.66,1313.28 \n",
       "  1004.97,1298.35 1008.28,1282.82 1011.59,1266.72 1014.91,1250.09 1018.22,1232.98 1021.53,1215.42 1024.85,1197.45 1028.16,1179.11 1031.47,1160.46 1034.78,1141.53 \n",
       "  1038.1,1122.37 1041.41,1103.01 1044.72,1083.51 1048.03,1063.9 1051.35,1044.24 1054.66,1024.56 1057.97,1004.92 1061.29,985.342 1064.6,965.885 1067.91,946.587 \n",
       "  1071.22,927.489 1074.54,908.633 1077.85,890.059 1081.16,871.805 1084.48,853.911 1087.79,836.414 1091.1,819.348 1094.41,802.749 1097.73,786.649 1101.04,771.08 \n",
       "  1104.35,756.073 1107.67,741.655 1110.98,727.853 1114.29,714.693 1117.6,702.196 1120.92,690.385 1124.23,679.279 1127.54,668.895 1130.86,659.248 1134.17,650.352 \n",
       "  1137.48,642.218 1140.79,634.855 1144.11,628.27 1147.42,622.468 1150.73,617.452 1154.05,613.222 1157.36,609.777 1160.67,607.113 1163.98,605.225 1167.3,604.105 \n",
       "  1170.61,603.742 1173.92,604.125 1177.23,605.24 1180.55,607.072 1183.86,609.601 1187.17,612.809 1190.49,616.675 1193.8,621.174 1197.11,626.283 1200.42,631.974 \n",
       "  1203.74,638.219 1207.05,644.989 1210.36,652.253 1213.68,659.979 1216.99,668.133 1220.3,676.681 1223.61,685.587 1226.93,694.814 1230.24,704.325 1233.55,714.082 \n",
       "  1236.87,724.045 1240.18,734.176 1243.49,744.434 1246.8,754.78 1250.12,765.173 1253.43,775.573 1256.74,785.938 1260.06,796.229 1263.37,806.404 1266.68,816.425 \n",
       "  1269.99,826.252 1273.31,835.846 1276.62,845.167 1279.93,854.179 1283.25,862.845 1286.56,871.128 1289.87,878.994 1293.18,886.409 1296.5,893.34 1299.81,899.756 \n",
       "  1303.12,905.627 1306.43,910.924 1309.75,915.62 1313.06,919.69 1316.37,923.11 1319.69,925.858 1323,927.913 1326.31,929.259 1329.62,929.877 1332.94,929.753 \n",
       "  1336.25,928.875 1339.56,927.232 1342.88,924.816 1346.19,921.621 1349.5,917.641 1352.81,912.875 1356.13,907.323 1359.44,900.988 1362.75,893.872 1366.07,885.982 \n",
       "  1369.38,877.328 1372.69,867.919 1376,857.768 1379.32,846.89 1382.63,835.302 1385.94,823.021 1389.26,810.07 1392.57,796.47 1395.88,782.245 1399.19,767.422 \n",
       "  1402.51,752.029 1405.82,736.095 1409.13,719.652 1412.45,702.731 1415.76,685.367 1419.07,667.595 1422.38,649.452 1425.7,630.976 1429.01,612.206 1432.32,593.18 \n",
       "  1435.63,573.941 1438.95,554.53 1442.26,534.989 1445.57,515.361 1448.89,495.689 1452.2,476.017 1455.51,456.389 1458.82,436.85 1462.14,417.442 1465.45,398.211 \n",
       "  1468.76,379.2 1472.08,360.454 1475.39,342.015 1478.7,323.926 1482.01,306.23 1485.33,288.969 1488.64,272.182 1491.95,255.91 1495.27,240.192 1498.58,225.065 \n",
       "  1501.89,210.566 1505.2,196.731 1508.52,183.592 1511.83,171.184 1515.14,159.537 1518.46,148.679 1521.77,138.64 1525.08,129.444 1528.39,121.115 1531.71,113.677 \n",
       "  1535.02,107.149 1538.33,101.55 1541.65,96.895 1544.96,93.1994 1548.27,90.4747 1551.58,88.7311 1554.9,87.9763 1558.21,88.2157 1561.52,89.4529 1564.83,91.6889 \n",
       "  1568.15,94.9227 1571.46,99.1511 1574.77,104.368 1578.09,110.567 1581.4,117.737 1584.71,125.867 1588.02,134.941 1591.34,144.945 1594.65,155.859 1597.96,167.664 \n",
       "  1601.28,180.337 1604.59,193.853 1607.9,208.187 1611.21,223.311 1614.53,239.194 1617.84,255.807 1621.15,273.116 1624.47,291.086 1627.78,309.682 1631.09,328.866 \n",
       "  1634.4,348.601 1637.72,368.846 1641.03,389.562 1644.34,410.705 1647.66,432.235 1650.97,454.108 1654.28,476.28 1657.59,498.706 1660.91,521.342 1664.22,544.142 \n",
       "  1667.53,567.062 1670.85,590.055 1674.16,613.076 1677.47,636.079 1680.78,659.019 1684.1,681.851 1687.41,704.532 1690.72,727.015 1694.03,749.259 1697.35,771.221 \n",
       "  1700.66,792.858 1703.97,814.13 1707.29,834.997 1710.6,855.421 1713.91,875.363 1717.22,894.788 1720.54,913.661 1723.85,931.949 1727.16,949.619 1730.48,966.642 \n",
       "  1733.79,982.989 1737.1,998.633 1740.41,1013.55 1743.73,1027.72 1747.04,1041.11 1750.35,1053.72 1753.67,1065.51 1756.98,1076.49 1760.29,1086.62 1763.6,1095.92 \n",
       "  1766.92,1104.35 1770.23,1111.93 1773.54,1118.64 1776.86,1124.48 1780.17,1129.45 1783.48,1133.56 1786.79,1136.8 1790.11,1139.19 1793.42,1140.73 1796.73,1141.44 \n",
       "  1800.05,1141.32 1803.36,1140.39 1806.67,1138.67 1809.98,1136.18 1813.3,1132.93 1816.61,1128.95 1819.92,1124.27 1823.23,1118.9 1826.55,1112.88 1829.86,1106.23 \n",
       "  1833.17,1098.99 1836.49,1091.18 1839.8,1082.85 1843.11,1074.02 1846.42,1064.72 1849.74,1055 1853.05,1044.9 1856.36,1034.45 1859.68,1023.68 1862.99,1012.65 \n",
       "  1866.3,1001.38 1869.61,989.927 1872.93,978.323 1876.24,966.609 1879.55,954.829 1882.87,943.022 1886.18,931.23 1889.49,919.494 1892.8,907.853 1896.12,896.348 \n",
       "  1899.43,885.018 1902.74,873.903 1906.06,863.04 1909.37,852.466 1912.68,842.218 1915.99,832.331 1919.31,822.84 1922.62,813.776 1925.93,805.172 1929.25,797.059 \n",
       "  1932.56,789.464 1935.87,782.415 1939.18,775.938 1942.5,770.057 1945.81,764.794 1949.12,760.169 1952.43,756.202 1955.75,752.908 1959.06,750.303 1962.37,748.4 \n",
       "  1965.69,747.208 1969,746.738 1972.31,746.995 1975.62,747.984 1978.94,749.708 1982.25,752.166 1985.56,755.358 1988.88,759.279 1992.19,763.923 1995.5,769.283 \n",
       "  1998.81,775.347 2002.13,782.105 2005.44,789.541 2008.75,797.639 2012.07,806.382 2015.38,815.75 2018.69,825.719 2022,836.268 2025.32,847.37 2028.63,858.998 \n",
       "  2031.94,871.124 2035.26,883.717 2038.57,896.746 2041.88,910.178 2045.19,923.978 2048.51,938.11 2051.82,952.539 2055.13,967.226 2058.44,982.132 2061.76,997.218 \n",
       "  2065.07,1012.44 2068.38,1027.77 2071.7,1043.15 2075.01,1058.55 2078.32,1073.92 2081.63,1089.23 2084.95,1104.42 2088.26,1119.46 2091.57,1134.3 2094.89,1148.9 \n",
       "  2098.2,1163.23 2101.51,1177.23 2104.82,1190.87 2108.14,1204.11 2111.45,1216.91 2114.76,1229.22 2118.08,1241.02 2121.39,1252.26 2124.7,1262.91 2128.01,1272.94 \n",
       "  2131.33,1282.31 2134.64,1290.98 2137.95,1298.94 2141.27,1306.16 2144.58,1312.59 2147.89,1318.23 2151.2,1323.04 2154.52,1327.01 2157.83,1330.12 2161.14,1332.34 \n",
       "  2164.46,1333.66 2167.77,1334.07 2171.08,1333.56 2174.39,1332.12 2177.71,1329.73 2181.02,1326.4 2184.33,1322.12 2187.64,1316.89 2190.96,1310.71 2194.27,1303.59 \n",
       "  2197.58,1295.53 2200.9,1286.54 2204.21,1276.63 2207.52,1265.81 2210.83,1254.09 2214.15,1241.5 2217.46,1228.05 2220.77,1213.76 2224.09,1198.66 2227.4,1182.76 \n",
       "  2230.71,1166.1 2234.02,1148.7 2237.34,1130.59 2240.65,1111.81 2243.96,1092.38 2247.28,1072.35 2250.59,1051.74 2253.9,1030.6 2257.21,1008.97 2260.53,986.877 \n",
       "  2263.84,964.37 2267.15,941.49 2270.47,918.28 2273.78,894.783 2277.09,871.043 2280.4,847.106 2283.72,823.016 2287.03,798.819 2290.34,774.562 \n",
       "  \"/>\n",
       "<path clip-path=\"url(#clip430)\" d=\"\n",
       "M1981.79 198.898 L2279.25 198.898 L2279.25 95.2176 L1981.79 95.2176  Z\n",
       "  \" fill=\"#ffffff\" fill-rule=\"evenodd\" fill-opacity=\"1\"/>\n",
       "<polyline clip-path=\"url(#clip430)\" style=\"stroke:#000000; stroke-linecap:butt; stroke-linejoin:round; stroke-width:4; stroke-opacity:1; fill:none\" points=\"\n",
       "  1981.79,198.898 2279.25,198.898 2279.25,95.2176 1981.79,95.2176 1981.79,198.898 \n",
       "  \"/>\n",
       "<polyline clip-path=\"url(#clip430)\" style=\"stroke:#009af9; stroke-linecap:butt; stroke-linejoin:round; stroke-width:4; stroke-opacity:1; fill:none\" points=\"\n",
       "  2006.29,147.058 2153.31,147.058 \n",
       "  \"/>\n",
       "<path clip-path=\"url(#clip430)\" d=\"M2191.65 166.745 Q2189.85 171.375 2188.13 172.787 Q2186.42 174.199 2183.55 174.199 L2180.15 174.199 L2180.15 170.634 L2182.65 170.634 Q2184.41 170.634 2185.38 169.8 Q2186.35 168.967 2187.53 165.865 L2188.3 163.921 L2177.81 138.412 L2182.32 138.412 L2190.43 158.689 L2198.53 138.412 L2203.04 138.412 L2191.65 166.745 Z\" fill=\"#000000\" fill-rule=\"evenodd\" fill-opacity=\"1\" /><path clip-path=\"url(#clip430)\" d=\"M2210.33 160.402 L2217.97 160.402 L2217.97 134.037 L2209.66 135.703 L2209.66 131.444 L2217.93 129.778 L2222.6 129.778 L2222.6 160.402 L2230.24 160.402 L2230.24 164.338 L2210.33 164.338 L2210.33 160.402 Z\" fill=\"#000000\" fill-rule=\"evenodd\" fill-opacity=\"1\" /></svg>\n"
      ],
      "image/svg+xml": [
       "<?xml version=\"1.0\" encoding=\"utf-8\"?>\n",
       "<svg xmlns=\"http://www.w3.org/2000/svg\" xmlns:xlink=\"http://www.w3.org/1999/xlink\" width=\"600\" height=\"400\" viewBox=\"0 0 2400 1600\">\n",
       "<defs>\n",
       "  <clipPath id=\"clip400\">\n",
       "    <rect x=\"0\" y=\"0\" width=\"2400\" height=\"1600\"/>\n",
       "  </clipPath>\n",
       "</defs>\n",
       "<path clip-path=\"url(#clip400)\" d=\"\n",
       "M0 1600 L2400 1600 L2400 0 L0 0  Z\n",
       "  \" fill=\"#ffffff\" fill-rule=\"evenodd\" fill-opacity=\"1\"/>\n",
       "<defs>\n",
       "  <clipPath id=\"clip401\">\n",
       "    <rect x=\"480\" y=\"0\" width=\"1681\" height=\"1600\"/>\n",
       "  </clipPath>\n",
       "</defs>\n",
       "<path clip-path=\"url(#clip400)\" d=\"\n",
       "M147.478 1486.45 L2352.76 1486.45 L2352.76 47.2441 L147.478 47.2441  Z\n",
       "  \" fill=\"#ffffff\" fill-rule=\"evenodd\" fill-opacity=\"1\"/>\n",
       "<defs>\n",
       "  <clipPath id=\"clip402\">\n",
       "    <rect x=\"147\" y=\"47\" width=\"2206\" height=\"1440\"/>\n",
       "  </clipPath>\n",
       "</defs>\n",
       "<polyline clip-path=\"url(#clip402)\" style=\"stroke:#000000; stroke-linecap:butt; stroke-linejoin:round; stroke-width:2; stroke-opacity:0.1; fill:none\" points=\"\n",
       "  209.891,1486.45 209.891,47.2441 \n",
       "  \"/>\n",
       "<polyline clip-path=\"url(#clip402)\" style=\"stroke:#000000; stroke-linecap:butt; stroke-linejoin:round; stroke-width:2; stroke-opacity:0.1; fill:none\" points=\"\n",
       "  541.173,1486.45 541.173,47.2441 \n",
       "  \"/>\n",
       "<polyline clip-path=\"url(#clip402)\" style=\"stroke:#000000; stroke-linecap:butt; stroke-linejoin:round; stroke-width:2; stroke-opacity:0.1; fill:none\" points=\"\n",
       "  872.455,1486.45 872.455,47.2441 \n",
       "  \"/>\n",
       "<polyline clip-path=\"url(#clip402)\" style=\"stroke:#000000; stroke-linecap:butt; stroke-linejoin:round; stroke-width:2; stroke-opacity:0.1; fill:none\" points=\"\n",
       "  1203.74,1486.45 1203.74,47.2441 \n",
       "  \"/>\n",
       "<polyline clip-path=\"url(#clip402)\" style=\"stroke:#000000; stroke-linecap:butt; stroke-linejoin:round; stroke-width:2; stroke-opacity:0.1; fill:none\" points=\"\n",
       "  1535.02,1486.45 1535.02,47.2441 \n",
       "  \"/>\n",
       "<polyline clip-path=\"url(#clip402)\" style=\"stroke:#000000; stroke-linecap:butt; stroke-linejoin:round; stroke-width:2; stroke-opacity:0.1; fill:none\" points=\"\n",
       "  1866.3,1486.45 1866.3,47.2441 \n",
       "  \"/>\n",
       "<polyline clip-path=\"url(#clip402)\" style=\"stroke:#000000; stroke-linecap:butt; stroke-linejoin:round; stroke-width:2; stroke-opacity:0.1; fill:none\" points=\"\n",
       "  2197.58,1486.45 2197.58,47.2441 \n",
       "  \"/>\n",
       "<polyline clip-path=\"url(#clip400)\" style=\"stroke:#000000; stroke-linecap:butt; stroke-linejoin:round; stroke-width:4; stroke-opacity:1; fill:none\" points=\"\n",
       "  147.478,1486.45 2352.76,1486.45 \n",
       "  \"/>\n",
       "<polyline clip-path=\"url(#clip400)\" style=\"stroke:#000000; stroke-linecap:butt; stroke-linejoin:round; stroke-width:4; stroke-opacity:1; fill:none\" points=\"\n",
       "  209.891,1486.45 209.891,1467.55 \n",
       "  \"/>\n",
       "<polyline clip-path=\"url(#clip400)\" style=\"stroke:#000000; stroke-linecap:butt; stroke-linejoin:round; stroke-width:4; stroke-opacity:1; fill:none\" points=\"\n",
       "  541.173,1486.45 541.173,1467.55 \n",
       "  \"/>\n",
       "<polyline clip-path=\"url(#clip400)\" style=\"stroke:#000000; stroke-linecap:butt; stroke-linejoin:round; stroke-width:4; stroke-opacity:1; fill:none\" points=\"\n",
       "  872.455,1486.45 872.455,1467.55 \n",
       "  \"/>\n",
       "<polyline clip-path=\"url(#clip400)\" style=\"stroke:#000000; stroke-linecap:butt; stroke-linejoin:round; stroke-width:4; stroke-opacity:1; fill:none\" points=\"\n",
       "  1203.74,1486.45 1203.74,1467.55 \n",
       "  \"/>\n",
       "<polyline clip-path=\"url(#clip400)\" style=\"stroke:#000000; stroke-linecap:butt; stroke-linejoin:round; stroke-width:4; stroke-opacity:1; fill:none\" points=\"\n",
       "  1535.02,1486.45 1535.02,1467.55 \n",
       "  \"/>\n",
       "<polyline clip-path=\"url(#clip400)\" style=\"stroke:#000000; stroke-linecap:butt; stroke-linejoin:round; stroke-width:4; stroke-opacity:1; fill:none\" points=\"\n",
       "  1866.3,1486.45 1866.3,1467.55 \n",
       "  \"/>\n",
       "<polyline clip-path=\"url(#clip400)\" style=\"stroke:#000000; stroke-linecap:butt; stroke-linejoin:round; stroke-width:4; stroke-opacity:1; fill:none\" points=\"\n",
       "  2197.58,1486.45 2197.58,1467.55 \n",
       "  \"/>\n",
       "<path clip-path=\"url(#clip400)\" d=\"M209.891 1517.37 Q206.28 1517.37 204.452 1520.93 Q202.646 1524.47 202.646 1531.6 Q202.646 1538.71 204.452 1542.27 Q206.28 1545.82 209.891 1545.82 Q213.526 1545.82 215.331 1542.27 Q217.16 1538.71 217.16 1531.6 Q217.16 1524.47 215.331 1520.93 Q213.526 1517.37 209.891 1517.37 M209.891 1513.66 Q215.702 1513.66 218.757 1518.27 Q221.836 1522.85 221.836 1531.6 Q221.836 1540.33 218.757 1544.94 Q215.702 1549.52 209.891 1549.52 Q204.081 1549.52 201.003 1544.94 Q197.947 1540.33 197.947 1531.6 Q197.947 1522.85 201.003 1518.27 Q204.081 1513.66 209.891 1513.66 Z\" fill=\"#000000\" fill-rule=\"evenodd\" fill-opacity=\"1\" /><path clip-path=\"url(#clip400)\" d=\"M531.555 1544.91 L539.194 1544.91 L539.194 1518.55 L530.884 1520.21 L530.884 1515.95 L539.148 1514.29 L543.824 1514.29 L543.824 1544.91 L551.463 1544.91 L551.463 1548.85 L531.555 1548.85 L531.555 1544.91 Z\" fill=\"#000000\" fill-rule=\"evenodd\" fill-opacity=\"1\" /><path clip-path=\"url(#clip400)\" d=\"M867.108 1544.91 L883.428 1544.91 L883.428 1548.85 L861.483 1548.85 L861.483 1544.91 Q864.145 1542.16 868.729 1537.53 Q873.335 1532.88 874.516 1531.53 Q876.761 1529.01 877.641 1527.27 Q878.543 1525.51 878.543 1523.82 Q878.543 1521.07 876.599 1519.33 Q874.678 1517.6 871.576 1517.6 Q869.377 1517.6 866.923 1518.36 Q864.493 1519.13 861.715 1520.68 L861.715 1515.95 Q864.539 1514.82 866.992 1514.24 Q869.446 1513.66 871.483 1513.66 Q876.854 1513.66 880.048 1516.35 Q883.242 1519.03 883.242 1523.52 Q883.242 1525.65 882.432 1527.57 Q881.645 1529.47 879.539 1532.07 Q878.96 1532.74 875.858 1535.95 Q872.756 1539.15 867.108 1544.91 Z\" fill=\"#000000\" fill-rule=\"evenodd\" fill-opacity=\"1\" /><path clip-path=\"url(#clip400)\" d=\"M1207.99 1530.21 Q1211.34 1530.93 1213.22 1533.2 Q1215.11 1535.47 1215.11 1538.8 Q1215.11 1543.92 1211.6 1546.72 Q1208.08 1549.52 1201.6 1549.52 Q1199.42 1549.52 1197.11 1549.08 Q1194.81 1548.66 1192.36 1547.81 L1192.36 1543.29 Q1194.3 1544.43 1196.62 1545.01 Q1198.93 1545.58 1201.46 1545.58 Q1205.86 1545.58 1208.15 1543.85 Q1210.46 1542.11 1210.46 1538.8 Q1210.46 1535.75 1208.31 1534.03 Q1206.18 1532.3 1202.36 1532.3 L1198.33 1532.3 L1198.33 1528.45 L1202.55 1528.45 Q1205.99 1528.45 1207.82 1527.09 Q1209.65 1525.7 1209.65 1523.11 Q1209.65 1520.45 1207.75 1519.03 Q1205.88 1517.6 1202.36 1517.6 Q1200.44 1517.6 1198.24 1518.01 Q1196.04 1518.43 1193.4 1519.31 L1193.4 1515.14 Q1196.06 1514.4 1198.38 1514.03 Q1200.72 1513.66 1202.78 1513.66 Q1208.1 1513.66 1211.2 1516.09 Q1214.3 1518.5 1214.3 1522.62 Q1214.3 1525.49 1212.66 1527.48 Q1211.02 1529.45 1207.99 1530.21 Z\" fill=\"#000000\" fill-rule=\"evenodd\" fill-opacity=\"1\" /><path clip-path=\"url(#clip400)\" d=\"M1538.03 1518.36 L1526.22 1536.81 L1538.03 1536.81 L1538.03 1518.36 M1536.8 1514.29 L1542.68 1514.29 L1542.68 1536.81 L1547.61 1536.81 L1547.61 1540.7 L1542.68 1540.7 L1542.68 1548.85 L1538.03 1548.85 L1538.03 1540.7 L1522.43 1540.7 L1522.43 1536.19 L1536.8 1514.29 Z\" fill=\"#000000\" fill-rule=\"evenodd\" fill-opacity=\"1\" /><path clip-path=\"url(#clip400)\" d=\"M1856.58 1514.29 L1874.94 1514.29 L1874.94 1518.22 L1860.86 1518.22 L1860.86 1526.7 Q1861.88 1526.35 1862.9 1526.19 Q1863.92 1526 1864.94 1526 Q1870.72 1526 1874.1 1529.17 Q1877.48 1532.34 1877.48 1537.76 Q1877.48 1543.34 1874.01 1546.44 Q1870.54 1549.52 1864.22 1549.52 Q1862.04 1549.52 1859.77 1549.15 Q1857.53 1548.78 1855.12 1548.04 L1855.12 1543.34 Q1857.2 1544.47 1859.43 1545.03 Q1861.65 1545.58 1864.13 1545.58 Q1868.13 1545.58 1870.47 1543.48 Q1872.81 1541.37 1872.81 1537.76 Q1872.81 1534.15 1870.47 1532.04 Q1868.13 1529.94 1864.13 1529.94 Q1862.25 1529.94 1860.38 1530.35 Q1858.52 1530.77 1856.58 1531.65 L1856.58 1514.29 Z\" fill=\"#000000\" fill-rule=\"evenodd\" fill-opacity=\"1\" /><path clip-path=\"url(#clip400)\" d=\"M2197.99 1529.7 Q2194.84 1529.7 2192.99 1531.86 Q2191.16 1534.01 2191.16 1537.76 Q2191.16 1541.49 2192.99 1543.66 Q2194.84 1545.82 2197.99 1545.82 Q2201.14 1545.82 2202.97 1543.66 Q2204.82 1541.49 2204.82 1537.76 Q2204.82 1534.01 2202.97 1531.86 Q2201.14 1529.7 2197.99 1529.7 M2207.27 1515.05 L2207.27 1519.31 Q2205.51 1518.48 2203.71 1518.04 Q2201.92 1517.6 2200.16 1517.6 Q2195.53 1517.6 2193.08 1520.72 Q2190.65 1523.85 2190.3 1530.17 Q2191.67 1528.15 2193.73 1527.09 Q2195.79 1526 2198.27 1526 Q2203.47 1526 2206.48 1529.17 Q2209.52 1532.32 2209.52 1537.76 Q2209.52 1543.08 2206.37 1546.3 Q2203.22 1549.52 2197.99 1549.52 Q2191.99 1549.52 2188.82 1544.94 Q2185.65 1540.33 2185.65 1531.6 Q2185.65 1523.41 2189.54 1518.55 Q2193.43 1513.66 2199.98 1513.66 Q2201.74 1513.66 2203.52 1514.01 Q2205.33 1514.36 2207.27 1515.05 Z\" fill=\"#000000\" fill-rule=\"evenodd\" fill-opacity=\"1\" /><polyline clip-path=\"url(#clip402)\" style=\"stroke:#000000; stroke-linecap:butt; stroke-linejoin:round; stroke-width:2; stroke-opacity:0.1; fill:none\" points=\"\n",
       "  147.478,1460.39 2352.76,1460.39 \n",
       "  \"/>\n",
       "<polyline clip-path=\"url(#clip402)\" style=\"stroke:#000000; stroke-linecap:butt; stroke-linejoin:round; stroke-width:2; stroke-opacity:0.1; fill:none\" points=\"\n",
       "  147.478,1113.61 2352.76,1113.61 \n",
       "  \"/>\n",
       "<polyline clip-path=\"url(#clip402)\" style=\"stroke:#000000; stroke-linecap:butt; stroke-linejoin:round; stroke-width:2; stroke-opacity:0.1; fill:none\" points=\"\n",
       "  147.478,766.83 2352.76,766.83 \n",
       "  \"/>\n",
       "<polyline clip-path=\"url(#clip402)\" style=\"stroke:#000000; stroke-linecap:butt; stroke-linejoin:round; stroke-width:2; stroke-opacity:0.1; fill:none\" points=\"\n",
       "  147.478,420.05 2352.76,420.05 \n",
       "  \"/>\n",
       "<polyline clip-path=\"url(#clip402)\" style=\"stroke:#000000; stroke-linecap:butt; stroke-linejoin:round; stroke-width:2; stroke-opacity:0.1; fill:none\" points=\"\n",
       "  147.478,73.2699 2352.76,73.2699 \n",
       "  \"/>\n",
       "<polyline clip-path=\"url(#clip400)\" style=\"stroke:#000000; stroke-linecap:butt; stroke-linejoin:round; stroke-width:4; stroke-opacity:1; fill:none\" points=\"\n",
       "  147.478,1486.45 147.478,47.2441 \n",
       "  \"/>\n",
       "<polyline clip-path=\"url(#clip400)\" style=\"stroke:#000000; stroke-linecap:butt; stroke-linejoin:round; stroke-width:4; stroke-opacity:1; fill:none\" points=\"\n",
       "  147.478,1460.39 166.376,1460.39 \n",
       "  \"/>\n",
       "<polyline clip-path=\"url(#clip400)\" style=\"stroke:#000000; stroke-linecap:butt; stroke-linejoin:round; stroke-width:4; stroke-opacity:1; fill:none\" points=\"\n",
       "  147.478,1113.61 166.376,1113.61 \n",
       "  \"/>\n",
       "<polyline clip-path=\"url(#clip400)\" style=\"stroke:#000000; stroke-linecap:butt; stroke-linejoin:round; stroke-width:4; stroke-opacity:1; fill:none\" points=\"\n",
       "  147.478,766.83 166.376,766.83 \n",
       "  \"/>\n",
       "<polyline clip-path=\"url(#clip400)\" style=\"stroke:#000000; stroke-linecap:butt; stroke-linejoin:round; stroke-width:4; stroke-opacity:1; fill:none\" points=\"\n",
       "  147.478,420.05 166.376,420.05 \n",
       "  \"/>\n",
       "<polyline clip-path=\"url(#clip400)\" style=\"stroke:#000000; stroke-linecap:butt; stroke-linejoin:round; stroke-width:4; stroke-opacity:1; fill:none\" points=\"\n",
       "  147.478,73.2699 166.376,73.2699 \n",
       "  \"/>\n",
       "<path clip-path=\"url(#clip400)\" d=\"M51.3625 1460.84 L81.0383 1460.84 L81.0383 1464.78 L51.3625 1464.78 L51.3625 1460.84 Z\" fill=\"#000000\" fill-rule=\"evenodd\" fill-opacity=\"1\" /><path clip-path=\"url(#clip400)\" d=\"M95.1586 1473.74 L111.478 1473.74 L111.478 1477.67 L89.5336 1477.67 L89.5336 1473.74 Q92.1956 1470.98 96.7789 1466.35 Q101.385 1461.7 102.566 1460.36 Q104.811 1457.83 105.691 1456.1 Q106.594 1454.34 106.594 1452.65 Q106.594 1449.89 104.649 1448.16 Q102.728 1446.42 99.6261 1446.42 Q97.4271 1446.42 94.9734 1447.18 Q92.5428 1447.95 89.7651 1449.5 L89.7651 1444.78 Q92.5891 1443.64 95.0428 1443.06 Q97.4965 1442.49 99.5335 1442.49 Q104.904 1442.49 108.098 1445.17 Q111.293 1447.86 111.293 1452.35 Q111.293 1454.48 110.483 1456.4 Q109.696 1458.3 107.589 1460.89 Q107.01 1461.56 103.909 1464.78 Q100.807 1467.97 95.1586 1473.74 Z\" fill=\"#000000\" fill-rule=\"evenodd\" fill-opacity=\"1\" /><path clip-path=\"url(#clip400)\" d=\"M50.9921 1114.06 L80.6679 1114.06 L80.6679 1118 L50.9921 1118 L50.9921 1114.06 Z\" fill=\"#000000\" fill-rule=\"evenodd\" fill-opacity=\"1\" /><path clip-path=\"url(#clip400)\" d=\"M91.5706 1126.95 L99.2095 1126.95 L99.2095 1100.59 L90.8993 1102.26 L90.8993 1098 L99.1632 1096.33 L103.839 1096.33 L103.839 1126.95 L111.478 1126.95 L111.478 1130.89 L91.5706 1130.89 L91.5706 1126.95 Z\" fill=\"#000000\" fill-rule=\"evenodd\" fill-opacity=\"1\" /><path clip-path=\"url(#clip400)\" d=\"M99.5335 752.629 Q95.9224 752.629 94.0937 756.194 Q92.2882 759.735 92.2882 766.865 Q92.2882 773.971 94.0937 777.536 Q95.9224 781.078 99.5335 781.078 Q103.168 781.078 104.973 777.536 Q106.802 773.971 106.802 766.865 Q106.802 759.735 104.973 756.194 Q103.168 752.629 99.5335 752.629 M99.5335 748.925 Q105.344 748.925 108.399 753.532 Q111.478 758.115 111.478 766.865 Q111.478 775.592 108.399 780.198 Q105.344 784.781 99.5335 784.781 Q93.7234 784.781 90.6447 780.198 Q87.5892 775.592 87.5892 766.865 Q87.5892 758.115 90.6447 753.532 Q93.7234 748.925 99.5335 748.925 Z\" fill=\"#000000\" fill-rule=\"evenodd\" fill-opacity=\"1\" /><path clip-path=\"url(#clip400)\" d=\"M91.5706 433.395 L99.2095 433.395 L99.2095 407.029 L90.8993 408.696 L90.8993 404.437 L99.1632 402.77 L103.839 402.77 L103.839 433.395 L111.478 433.395 L111.478 437.33 L91.5706 437.33 L91.5706 433.395 Z\" fill=\"#000000\" fill-rule=\"evenodd\" fill-opacity=\"1\" /><path clip-path=\"url(#clip400)\" d=\"M95.1586 86.6148 L111.478 86.6148 L111.478 90.5499 L89.5336 90.5499 L89.5336 86.6148 Q92.1956 83.8601 96.7789 79.2305 Q101.385 74.5778 102.566 73.2352 Q104.811 70.7121 105.691 68.976 Q106.594 67.2167 106.594 65.5269 Q106.594 62.7723 104.649 61.0362 Q102.728 59.3001 99.6261 59.3001 Q97.4271 59.3001 94.9734 60.064 Q92.5428 60.8279 89.7651 62.3788 L89.7651 57.6566 Q92.5891 56.5223 95.0428 55.9436 Q97.4965 55.3649 99.5335 55.3649 Q104.904 55.3649 108.098 58.0501 Q111.293 60.7353 111.293 65.226 Q111.293 67.3556 110.483 69.2769 Q109.696 71.175 107.589 73.7676 Q107.01 74.4389 103.909 77.6565 Q100.807 80.8509 95.1586 86.6148 Z\" fill=\"#000000\" fill-rule=\"evenodd\" fill-opacity=\"1\" /><polyline clip-path=\"url(#clip402)\" style=\"stroke:#009af9; stroke-linecap:butt; stroke-linejoin:round; stroke-width:4; stroke-opacity:1; fill:none\" points=\"\n",
       "  209.891,766.83 213.204,742.563 216.517,718.342 219.83,694.214 223.143,670.223 226.456,646.415 229.768,622.836 233.081,599.529 236.394,576.539 239.707,553.909 \n",
       "  243.02,531.68 246.332,509.895 249.645,488.593 252.958,467.813 256.271,447.594 259.584,427.971 262.897,408.98 266.209,390.654 269.522,373.026 272.835,356.126 \n",
       "  276.148,339.982 279.461,324.622 282.773,310.07 286.086,296.349 289.399,283.482 292.712,271.486 296.025,260.379 299.338,250.177 302.65,240.891 305.963,232.533 \n",
       "  309.276,225.112 312.589,218.634 315.902,213.102 319.214,208.52 322.527,204.888 325.84,202.201 329.153,200.458 332.466,199.649 335.779,199.768 339.091,200.802 \n",
       "  342.404,202.739 345.717,205.564 349.03,209.259 352.343,213.806 355.656,219.183 358.968,225.368 362.281,232.336 365.594,240.06 368.907,248.514 372.22,257.666 \n",
       "  375.532,267.486 378.845,277.942 382.158,289 385.471,300.624 388.784,312.778 392.097,325.425 395.409,338.526 398.722,352.042 402.035,365.934 405.348,380.16 \n",
       "  408.661,394.68 411.973,409.451 415.286,424.432 418.599,439.58 421.912,454.852 425.225,470.207 428.538,485.602 431.85,500.995 435.163,516.343 438.476,531.605 \n",
       "  441.789,546.74 445.102,561.708 448.414,576.469 451.727,590.984 455.04,605.215 458.353,619.125 461.666,632.677 464.979,645.838 468.291,658.574 471.604,670.852 \n",
       "  474.917,682.642 478.23,693.915 481.543,704.642 484.855,714.799 488.168,724.361 491.481,733.305 494.794,741.611 498.107,749.26 501.42,756.235 504.732,762.522 \n",
       "  508.045,768.107 511.358,772.98 514.671,777.132 517.984,780.557 521.297,783.249 524.609,785.207 527.922,786.43 531.235,786.92 534.548,786.68 537.861,785.717 \n",
       "  541.173,784.04 544.486,781.657 547.799,778.581 551.112,774.827 554.425,770.409 557.738,765.348 561.05,759.661 564.363,753.371 567.676,746.502 570.989,739.078 \n",
       "  574.302,731.127 577.614,722.676 580.927,713.756 584.24,704.397 587.553,694.632 590.866,684.495 594.179,674.022 597.491,663.247 600.804,652.207 604.117,640.942 \n",
       "  607.43,629.489 610.743,617.887 614.055,606.176 617.368,594.398 620.681,582.591 623.994,570.798 627.307,559.059 630.62,547.415 633.932,535.908 637.245,524.577 \n",
       "  640.558,513.465 643.871,502.611 647.184,492.054 650.496,481.834 653.809,471.989 657.122,462.557 660.435,453.574 663.748,445.076 667.061,437.098 670.373,429.673 \n",
       "  673.686,422.833 676.999,416.609 680.312,411.03 683.625,406.124 686.938,401.918 690.25,398.435 693.563,395.699 696.876,393.731 700.189,392.549 703.502,392.171 \n",
       "  706.814,392.613 710.127,393.887 713.44,396.005 716.753,398.976 720.066,402.807 723.379,407.504 726.691,413.068 730.004,419.5 733.317,426.8 736.63,434.963 \n",
       "  739.943,443.983 743.255,453.853 746.568,464.562 749.881,476.098 753.194,488.447 756.507,501.592 759.82,515.515 763.132,530.196 766.445,545.611 769.758,561.737 \n",
       "  773.071,578.547 776.384,596.014 779.696,614.109 783.009,632.798 786.322,652.051 789.635,671.833 792.948,692.107 796.261,712.837 799.573,733.985 802.886,755.51 \n",
       "  806.199,777.373 809.512,799.531 812.825,821.943 816.137,844.566 819.45,867.354 822.763,890.265 826.076,913.253 829.389,936.273 832.702,959.28 836.014,982.228 \n",
       "  839.327,1005.07 842.64,1027.76 845.953,1050.26 849.266,1072.52 852.579,1094.49 855.891,1116.14 859.204,1137.41 862.517,1158.26 865.83,1178.66 869.143,1198.57 \n",
       "  872.455,1217.93 875.768,1236.72 879.081,1254.89 882.394,1272.41 885.707,1289.25 889.02,1305.37 892.332,1320.74 895.645,1335.33 898.958,1349.11 902.271,1362.05 \n",
       "  905.584,1374.14 908.896,1385.34 912.209,1395.63 915.522,1405 918.835,1413.44 922.148,1420.91 925.461,1427.42 928.773,1432.95 932.086,1437.5 935.399,1441.05 \n",
       "  938.712,1443.6 942.025,1445.16 945.337,1445.72 948.65,1445.28 951.963,1443.85 955.276,1441.43 958.589,1438.05 961.902,1433.7 965.214,1428.4 968.527,1422.16 \n",
       "  971.84,1415.01 975.153,1406.96 978.466,1398.04 981.778,1388.27 985.091,1377.67 988.404,1366.27 991.717,1354.1 995.03,1341.19 998.343,1327.57 1001.66,1313.28 \n",
       "  1004.97,1298.35 1008.28,1282.82 1011.59,1266.72 1014.91,1250.09 1018.22,1232.98 1021.53,1215.42 1024.85,1197.45 1028.16,1179.11 1031.47,1160.46 1034.78,1141.53 \n",
       "  1038.1,1122.37 1041.41,1103.01 1044.72,1083.51 1048.03,1063.9 1051.35,1044.24 1054.66,1024.56 1057.97,1004.92 1061.29,985.342 1064.6,965.885 1067.91,946.587 \n",
       "  1071.22,927.489 1074.54,908.633 1077.85,890.059 1081.16,871.805 1084.48,853.911 1087.79,836.414 1091.1,819.348 1094.41,802.749 1097.73,786.649 1101.04,771.08 \n",
       "  1104.35,756.073 1107.67,741.655 1110.98,727.853 1114.29,714.693 1117.6,702.196 1120.92,690.385 1124.23,679.279 1127.54,668.895 1130.86,659.248 1134.17,650.352 \n",
       "  1137.48,642.218 1140.79,634.855 1144.11,628.27 1147.42,622.468 1150.73,617.452 1154.05,613.222 1157.36,609.777 1160.67,607.113 1163.98,605.225 1167.3,604.105 \n",
       "  1170.61,603.742 1173.92,604.125 1177.23,605.24 1180.55,607.072 1183.86,609.601 1187.17,612.809 1190.49,616.675 1193.8,621.174 1197.11,626.283 1200.42,631.974 \n",
       "  1203.74,638.219 1207.05,644.989 1210.36,652.253 1213.68,659.979 1216.99,668.133 1220.3,676.681 1223.61,685.587 1226.93,694.814 1230.24,704.325 1233.55,714.082 \n",
       "  1236.87,724.045 1240.18,734.176 1243.49,744.434 1246.8,754.78 1250.12,765.173 1253.43,775.573 1256.74,785.938 1260.06,796.229 1263.37,806.404 1266.68,816.425 \n",
       "  1269.99,826.252 1273.31,835.846 1276.62,845.167 1279.93,854.179 1283.25,862.845 1286.56,871.128 1289.87,878.994 1293.18,886.409 1296.5,893.34 1299.81,899.756 \n",
       "  1303.12,905.627 1306.43,910.924 1309.75,915.62 1313.06,919.69 1316.37,923.11 1319.69,925.858 1323,927.913 1326.31,929.259 1329.62,929.877 1332.94,929.753 \n",
       "  1336.25,928.875 1339.56,927.232 1342.88,924.816 1346.19,921.621 1349.5,917.641 1352.81,912.875 1356.13,907.323 1359.44,900.988 1362.75,893.872 1366.07,885.982 \n",
       "  1369.38,877.328 1372.69,867.919 1376,857.768 1379.32,846.89 1382.63,835.302 1385.94,823.021 1389.26,810.07 1392.57,796.47 1395.88,782.245 1399.19,767.422 \n",
       "  1402.51,752.029 1405.82,736.095 1409.13,719.652 1412.45,702.731 1415.76,685.367 1419.07,667.595 1422.38,649.452 1425.7,630.976 1429.01,612.206 1432.32,593.18 \n",
       "  1435.63,573.941 1438.95,554.53 1442.26,534.989 1445.57,515.361 1448.89,495.689 1452.2,476.017 1455.51,456.389 1458.82,436.85 1462.14,417.442 1465.45,398.211 \n",
       "  1468.76,379.2 1472.08,360.454 1475.39,342.015 1478.7,323.926 1482.01,306.23 1485.33,288.969 1488.64,272.182 1491.95,255.91 1495.27,240.192 1498.58,225.065 \n",
       "  1501.89,210.566 1505.2,196.731 1508.52,183.592 1511.83,171.184 1515.14,159.537 1518.46,148.679 1521.77,138.64 1525.08,129.444 1528.39,121.115 1531.71,113.677 \n",
       "  1535.02,107.149 1538.33,101.55 1541.65,96.895 1544.96,93.1994 1548.27,90.4747 1551.58,88.7311 1554.9,87.9763 1558.21,88.2157 1561.52,89.4529 1564.83,91.6889 \n",
       "  1568.15,94.9227 1571.46,99.1511 1574.77,104.368 1578.09,110.567 1581.4,117.737 1584.71,125.867 1588.02,134.941 1591.34,144.945 1594.65,155.859 1597.96,167.664 \n",
       "  1601.28,180.337 1604.59,193.853 1607.9,208.187 1611.21,223.311 1614.53,239.194 1617.84,255.807 1621.15,273.116 1624.47,291.086 1627.78,309.682 1631.09,328.866 \n",
       "  1634.4,348.601 1637.72,368.846 1641.03,389.562 1644.34,410.705 1647.66,432.235 1650.97,454.108 1654.28,476.28 1657.59,498.706 1660.91,521.342 1664.22,544.142 \n",
       "  1667.53,567.062 1670.85,590.055 1674.16,613.076 1677.47,636.079 1680.78,659.019 1684.1,681.851 1687.41,704.532 1690.72,727.015 1694.03,749.259 1697.35,771.221 \n",
       "  1700.66,792.858 1703.97,814.13 1707.29,834.997 1710.6,855.421 1713.91,875.363 1717.22,894.788 1720.54,913.661 1723.85,931.949 1727.16,949.619 1730.48,966.642 \n",
       "  1733.79,982.989 1737.1,998.633 1740.41,1013.55 1743.73,1027.72 1747.04,1041.11 1750.35,1053.72 1753.67,1065.51 1756.98,1076.49 1760.29,1086.62 1763.6,1095.92 \n",
       "  1766.92,1104.35 1770.23,1111.93 1773.54,1118.64 1776.86,1124.48 1780.17,1129.45 1783.48,1133.56 1786.79,1136.8 1790.11,1139.19 1793.42,1140.73 1796.73,1141.44 \n",
       "  1800.05,1141.32 1803.36,1140.39 1806.67,1138.67 1809.98,1136.18 1813.3,1132.93 1816.61,1128.95 1819.92,1124.27 1823.23,1118.9 1826.55,1112.88 1829.86,1106.23 \n",
       "  1833.17,1098.99 1836.49,1091.18 1839.8,1082.85 1843.11,1074.02 1846.42,1064.72 1849.74,1055 1853.05,1044.9 1856.36,1034.45 1859.68,1023.68 1862.99,1012.65 \n",
       "  1866.3,1001.38 1869.61,989.927 1872.93,978.323 1876.24,966.609 1879.55,954.829 1882.87,943.022 1886.18,931.23 1889.49,919.494 1892.8,907.853 1896.12,896.348 \n",
       "  1899.43,885.018 1902.74,873.903 1906.06,863.04 1909.37,852.466 1912.68,842.218 1915.99,832.331 1919.31,822.84 1922.62,813.776 1925.93,805.172 1929.25,797.059 \n",
       "  1932.56,789.464 1935.87,782.415 1939.18,775.938 1942.5,770.057 1945.81,764.794 1949.12,760.169 1952.43,756.202 1955.75,752.908 1959.06,750.303 1962.37,748.4 \n",
       "  1965.69,747.208 1969,746.738 1972.31,746.995 1975.62,747.984 1978.94,749.708 1982.25,752.166 1985.56,755.358 1988.88,759.279 1992.19,763.923 1995.5,769.283 \n",
       "  1998.81,775.347 2002.13,782.105 2005.44,789.541 2008.75,797.639 2012.07,806.382 2015.38,815.75 2018.69,825.719 2022,836.268 2025.32,847.37 2028.63,858.998 \n",
       "  2031.94,871.124 2035.26,883.717 2038.57,896.746 2041.88,910.178 2045.19,923.978 2048.51,938.11 2051.82,952.539 2055.13,967.226 2058.44,982.132 2061.76,997.218 \n",
       "  2065.07,1012.44 2068.38,1027.77 2071.7,1043.15 2075.01,1058.55 2078.32,1073.92 2081.63,1089.23 2084.95,1104.42 2088.26,1119.46 2091.57,1134.3 2094.89,1148.9 \n",
       "  2098.2,1163.23 2101.51,1177.23 2104.82,1190.87 2108.14,1204.11 2111.45,1216.91 2114.76,1229.22 2118.08,1241.02 2121.39,1252.26 2124.7,1262.91 2128.01,1272.94 \n",
       "  2131.33,1282.31 2134.64,1290.98 2137.95,1298.94 2141.27,1306.16 2144.58,1312.59 2147.89,1318.23 2151.2,1323.04 2154.52,1327.01 2157.83,1330.12 2161.14,1332.34 \n",
       "  2164.46,1333.66 2167.77,1334.07 2171.08,1333.56 2174.39,1332.12 2177.71,1329.73 2181.02,1326.4 2184.33,1322.12 2187.64,1316.89 2190.96,1310.71 2194.27,1303.59 \n",
       "  2197.58,1295.53 2200.9,1286.54 2204.21,1276.63 2207.52,1265.81 2210.83,1254.09 2214.15,1241.5 2217.46,1228.05 2220.77,1213.76 2224.09,1198.66 2227.4,1182.76 \n",
       "  2230.71,1166.1 2234.02,1148.7 2237.34,1130.59 2240.65,1111.81 2243.96,1092.38 2247.28,1072.35 2250.59,1051.74 2253.9,1030.6 2257.21,1008.97 2260.53,986.877 \n",
       "  2263.84,964.37 2267.15,941.49 2270.47,918.28 2273.78,894.783 2277.09,871.043 2280.4,847.106 2283.72,823.016 2287.03,798.819 2290.34,774.562 \n",
       "  \"/>\n",
       "<path clip-path=\"url(#clip400)\" d=\"\n",
       "M1981.79 198.898 L2279.25 198.898 L2279.25 95.2176 L1981.79 95.2176  Z\n",
       "  \" fill=\"#ffffff\" fill-rule=\"evenodd\" fill-opacity=\"1\"/>\n",
       "<polyline clip-path=\"url(#clip400)\" style=\"stroke:#000000; stroke-linecap:butt; stroke-linejoin:round; stroke-width:4; stroke-opacity:1; fill:none\" points=\"\n",
       "  1981.79,198.898 2279.25,198.898 2279.25,95.2176 1981.79,95.2176 1981.79,198.898 \n",
       "  \"/>\n",
       "<polyline clip-path=\"url(#clip400)\" style=\"stroke:#009af9; stroke-linecap:butt; stroke-linejoin:round; stroke-width:4; stroke-opacity:1; fill:none\" points=\"\n",
       "  2006.29,147.058 2153.31,147.058 \n",
       "  \"/>\n",
       "<path clip-path=\"url(#clip400)\" d=\"M2191.65 166.745 Q2189.85 171.375 2188.13 172.787 Q2186.42 174.199 2183.55 174.199 L2180.15 174.199 L2180.15 170.634 L2182.65 170.634 Q2184.41 170.634 2185.38 169.8 Q2186.35 168.967 2187.53 165.865 L2188.3 163.921 L2177.81 138.412 L2182.32 138.412 L2190.43 158.689 L2198.53 138.412 L2203.04 138.412 L2191.65 166.745 Z\" fill=\"#000000\" fill-rule=\"evenodd\" fill-opacity=\"1\" /><path clip-path=\"url(#clip400)\" d=\"M2210.33 160.402 L2217.97 160.402 L2217.97 134.037 L2209.66 135.703 L2209.66 131.444 L2217.93 129.778 L2222.6 129.778 L2222.6 160.402 L2230.24 160.402 L2230.24 164.338 L2210.33 164.338 L2210.33 160.402 Z\" fill=\"#000000\" fill-rule=\"evenodd\" fill-opacity=\"1\" /></svg>\n"
      ]
     },
     "metadata": {},
     "execution_count": 5
    }
   ],
   "cell_type": "code",
   "source": [
    "using Plots\n",
    "\n",
    "x = 0.0:0.01:2π\n",
    "y = sin.(2x) + sin.(5x)\n",
    "\n",
    "plot(x, y)"
   ],
   "metadata": {},
   "execution_count": 5
  },
  {
   "cell_type": "markdown",
   "source": [
    "---\n",
    "\n",
    "*This notebook was generated using [Literate.jl](https://github.com/fredrikekre/Literate.jl).*"
   ],
   "metadata": {}
  }
 ],
 "nbformat_minor": 3,
 "metadata": {
  "language_info": {
   "file_extension": ".jl",
   "mimetype": "application/julia",
   "name": "julia",
   "version": "1.7.2"
  },
  "kernelspec": {
   "name": "julia-1.7",
   "display_name": "Julia 1.7.2",
   "language": "julia"
  }
 },
 "nbformat": 4
}
